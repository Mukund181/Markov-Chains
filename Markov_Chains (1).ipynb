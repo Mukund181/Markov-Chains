{
 "cells": [
  {
   "cell_type": "code",
   "execution_count": 1,
   "id": "f831bea1-5ccc-404b-a411-ac57a0e96f5e",
   "metadata": {},
   "outputs": [],
   "source": [
    "import random\n",
    "\n",
    "def build_markov_chain(text, n=1):\n",
    "    markov_chain = {}\n",
    "    words = text.split()\n",
    "\n",
    "    for i in range(len(words) - n):\n",
    "        key = tuple(words[i:i+n])\n",
    "        next_word = words[i+n]\n",
    "        if key not in markov_chain:\n",
    "            markov_chain[key] = []\n",
    "        markov_chain[key].append(next_word)\n",
    "\n",
    "    return markov_chain"
   ]
  },
  {
   "cell_type": "code",
   "execution_count": 2,
   "id": "fd5f03d8-c70b-4683-8404-bf8f1f351296",
   "metadata": {},
   "outputs": [],
   "source": [
    "def generate_text(chain, length=50, seed=None):\n",
    "    if not seed:\n",
    "        seed = random.choice(list(chain.keys()))\n",
    "    output = list(seed)\n",
    "\n",
    "    for _ in range(length - len(seed)):\n",
    "        current_state = tuple(output[-len(seed):])\n",
    "        next_words = chain.get(current_state)\n",
    "        if not next_words:\n",
    "            break\n",
    "        next_word = random.choice(next_words)\n",
    "        output.append(next_word)\n",
    "\n",
    "    return ' '.join(output)"
   ]
  },
  {
   "cell_type": "code",
   "execution_count": 9,
   "id": "e0c46c45-b9ff-4907-8d18-8f4b4a458145",
   "metadata": {},
   "outputs": [
    {
     "name": "stdout",
     "output_type": "stream",
     "text": [
      "\n",
      "Generating 5 Sequences \n",
      "\n",
      "Sequence 1:\n",
      "and make decisions with minimal human intervention.\n",
      "\n",
      "Sequence 2:\n",
      "and make decisions with minimal human intervention.\n",
      "\n",
      "Sequence 3:\n",
      "a method of data analysis that automates analytical model building. It is a branch of artificial intelligence based on the idea that systems can learn from data, identify patterns and\n",
      "\n",
      "Sequence 4:\n",
      "artificial intelligence based on the idea that systems can learn from data, identify patterns and make decisions with minimal human intervention.\n",
      "\n",
      "Sequence 5:\n",
      "intelligence based on the idea that systems can learn from data, identify patterns and make decisions with minimal human intervention.\n",
      "\n"
     ]
    }
   ],
   "source": [
    "if __name__ == \"__main__\":\n",
    "\n",
    "    sample_text = \"\"\"Machine learning is a method of data analysis that automates analytical model building. \n",
    "    It is a branch of artificial intelligence based on the idea that systems can learn from data, \n",
    "    identify patterns and make decisions with minimal human intervention.\"\"\"\n",
    "\n",
    "    n = 2  # Order of the Markov chain (2-word state)\n",
    "    sequence_count = 5  # How many sequences \n",
    "    sequence_length = 30  # Number of words \n",
    "\n",
    "    markov_chain = build_markov_chain(sample_text, n)\n",
    "\n",
    "    print(f\"\\nGenerating {sequence_count} Sequences \\n\")\n",
    "    for i in range(sequence_count):\n",
    "        generated = generate_text(markov_chain, length=sequence_length)\n",
    "        print(f\"Sequence {i + 1}:\\n{generated}\\n\")"
   ]
  },
  {
   "cell_type": "code",
   "execution_count": null,
   "id": "4b307afc-074e-4393-8d70-fca8db3689c4",
   "metadata": {},
   "outputs": [],
   "source": []
  }
 ],
 "metadata": {
  "kernelspec": {
   "display_name": "Python 3 (ipykernel)",
   "language": "python",
   "name": "python3"
  },
  "language_info": {
   "codemirror_mode": {
    "name": "ipython",
    "version": 3
   },
   "file_extension": ".py",
   "mimetype": "text/x-python",
   "name": "python",
   "nbconvert_exporter": "python",
   "pygments_lexer": "ipython3",
   "version": "3.12.6"
  }
 },
 "nbformat": 4,
 "nbformat_minor": 5
}
